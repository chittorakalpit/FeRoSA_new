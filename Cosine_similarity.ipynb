{
 "cells": [
  {
   "cell_type": "code",
   "execution_count": 2,
   "metadata": {},
   "outputs": [],
   "source": [
    "from sklearn.feature_extraction.text import TfidfVectorizer\n",
    "import os\n",
    "import numpy as np\n",
    "from sklearn.metrics.pairwise import cosine_similarity\n",
    "\n",
    "\n",
    "paper_directory = \"../2014/papers_text/\"\n",
    "\n",
    "#paper_array = names of all papers in dataset ordered lexically\n",
    "paper_array = []\n",
    "for filename in os.listdir(paper_directory):\n",
    "    if filename.endswith(\".txt\"): \n",
    "        #print(os.path.join(directory, filename))\n",
    "        paper_array.append(filename[:-4])\n",
    "paper_array = sorted(paper_array)\n",
    "\n",
    "filenames = [paper_directory + x + \".txt\" for x in paper_array]\n",
    "documents = [open(f).read() for f in filenames]\n",
    "\n",
    "raw_matrix = TfidfVectorizer(stop_words = 'english')\n",
    "matrix = raw_matrix.fit_transform(documents)"
   ]
  },
  {
   "cell_type": "code",
   "execution_count": 3,
   "metadata": {
    "collapsed": true
   },
   "outputs": [],
   "source": [
    "output_matrix = cosine_similarity(matrix)"
   ]
  },
  {
   "cell_type": "code",
   "execution_count": 14,
   "metadata": {},
   "outputs": [],
   "source": [
    "#ready_to_write = np.asarray(output_matrix)\n",
    "for i in range(0,len(paper_array)//100):\n",
    "    np.savetxt(\"cos_sim/cosine_similarity_\"+str(i)+\".csv\", output_matrix[i*100:(i+1)*100], delimiter=\",\")"
   ]
  },
  {
   "cell_type": "code",
   "execution_count": 16,
   "metadata": {},
   "outputs": [],
   "source": [
    "i = i+1\n",
    "np.savetxt(\"cos_sim/cosine_similarity_\"+str(i)+\".csv\", output_matrix[i*100:], delimiter=\",\")"
   ]
  },
  {
   "cell_type": "code",
   "execution_count": 44,
   "metadata": {
    "collapsed": true
   },
   "outputs": [],
   "source": [
    "np.savetxt(\"cosine_similarity_test.csv\", ready_to_write[1000:1100, :100], delimiter=\",\")"
   ]
  },
  {
   "cell_type": "code",
   "execution_count": null,
   "metadata": {},
   "outputs": [],
   "source": []
  },
  {
   "cell_type": "code",
   "execution_count": 7,
   "metadata": {},
   "outputs": [
    {
     "data": {
      "text/plain": [
       "array([[ 1.        ,  0.05912672,  0.04820813, ...,  0.04315086,\n",
       "         0.03712886,  0.04347476],\n",
       "       [ 0.05912672,  1.        ,  0.11137674, ...,  0.03994623,\n",
       "         0.04442389,  0.04432617],\n",
       "       [ 0.04820813,  0.11137674,  1.        , ...,  0.06130357,\n",
       "         0.04061527,  0.16035322],\n",
       "       ..., \n",
       "       [ 0.02870203,  0.06904265,  0.04089879, ...,  0.04333391,\n",
       "         0.04088347,  0.06617635],\n",
       "       [ 0.028451  ,  0.03617539,  0.02585397, ...,  0.0535607 ,\n",
       "         0.05954718,  0.02818891],\n",
       "       [ 0.03777792,  0.07569561,  0.06353549, ...,  0.04885327,\n",
       "         0.05924907,  0.05314212]])"
      ]
     },
     "execution_count": 7,
     "metadata": {},
     "output_type": "execute_result"
    }
   ],
   "source": [
    "output_matrix[0:1000]"
   ]
  },
  {
   "cell_type": "code",
   "execution_count": null,
   "metadata": {
    "collapsed": true
   },
   "outputs": [],
   "source": []
  }
 ],
 "metadata": {
  "kernelspec": {
   "display_name": "Python 3",
   "language": "python",
   "name": "python3"
  },
  "language_info": {
   "codemirror_mode": {
    "name": "ipython",
    "version": 3
   },
   "file_extension": ".py",
   "mimetype": "text/x-python",
   "name": "python",
   "nbconvert_exporter": "python",
   "pygments_lexer": "ipython3",
   "version": "3.6.1"
  }
 },
 "nbformat": 4,
 "nbformat_minor": 2
}
