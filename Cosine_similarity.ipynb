{
 "cells": [
  {
   "cell_type": "code",
   "execution_count": 57,
   "metadata": {
    "collapsed": true
   },
   "outputs": [],
   "source": [
    "from sklearn.feature_extraction.text import TfidfVectorizer\n",
    "import os\n",
    "import numpy as np\n",
    "from sklearn.metrics.pairwise import cosine_similarity\n",
    "\n",
    "\n",
    "## Loading/Creating paper_array \n",
    "## paper_array = names of all papers in dataset ordered lexically\n",
    "print '.....Loading/Creating paper_array..... '\n",
    "\n",
    "paper_dir = \"../2014/papers_text\"\n",
    "paper_array_path = 'pickled/paper_array.txt'\n",
    "#paper_array = names of all papers in dataset ordered lexically\n",
    "if os.path.isfile(paper_array_path):\n",
    "    with open(paper_array_path, \"rb\") as array_file:\n",
    "        paper_array = pickle.load(array_file)\n",
    "else:\n",
    "    paper_array = []\n",
    "    for filename in os.listdir(paper_dir):\n",
    "        if filename.endswith(\".txt\"): \n",
    "            #print(os.path.join(directory, filename))\n",
    "            paper_array.append(filename[:-4])\n",
    "    paper_array = sorted(paper_array)\n",
    "    with open(paper_array_path, \"wb\") as array_file:\n",
    "        pickle.dump(paper_array, array_file)\n",
    "        "
   ]
  },
  {
   "cell_type": "code",
   "execution_count": null,
   "metadata": {
    "collapsed": true
   },
   "outputs": [],
   "source": [
    "## Generating TF-IDF Vectorizer\n",
    "print '.....Generating TF-IDF Vectorizer....'\n",
    "filenames = [paper_directory + x + \".txt\" for x in paper_array]\n",
    "documents = [open(f).read() for f in filenames]\n",
    "\n",
    "raw_matrix = TfidfVectorizer(stop_words = 'english', min_df = 0.01, token_pattern='[a-zA-Z]+')\n",
    "matrix = raw_matrix.fit_transform(documents)"
   ]
  },
  {
   "cell_type": "code",
   "execution_count": 58,
   "metadata": {
    "collapsed": true
   },
   "outputs": [],
   "source": [
    "##Generating cosine-similarity-matrix\n",
    "print'.....Generating cosine-similarity-matrix.....'\n",
    "output_matrix = cosine_similarity(matrix)"
   ]
  },
  {
   "cell_type": "code",
   "execution_count": 14,
   "metadata": {
    "collapsed": true
   },
   "outputs": [],
   "source": [
    "##saving cosine-similarity-matrix as co_mat.npy in cos\n",
    "print'.....saving cosine-similarity-matrix as co_mat.npy in cos.....'\n",
    "np.save(\"cos/cos_mat.npy\", output_matrix)"
   ]
  },
  {
   "cell_type": "code",
   "execution_count": null,
   "metadata": {
    "collapsed": true
   },
   "outputs": [],
   "source": []
  },
  {
   "cell_type": "code",
   "execution_count": null,
   "metadata": {
    "collapsed": true
   },
   "outputs": [],
   "source": []
  }
 ],
 "metadata": {
  "kernelspec": {
   "display_name": "Python 2",
   "language": "python",
   "name": "python2"
  },
  "language_info": {
   "codemirror_mode": {
    "name": "ipython",
    "version": 2
   },
   "file_extension": ".py",
   "mimetype": "text/x-python",
   "name": "python",
   "nbconvert_exporter": "python",
   "pygments_lexer": "ipython2",
   "version": "2.7.13"
  }
 },
 "nbformat": 4,
 "nbformat_minor": 2
}
