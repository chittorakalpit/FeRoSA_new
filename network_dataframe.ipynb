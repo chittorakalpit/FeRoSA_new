{
 "cells": [
  {
   "cell_type": "code",
   "execution_count": 79,
   "metadata": {
    "collapsed": true
   },
   "outputs": [],
   "source": [
    "import os\n",
    "import pandas as pd\n",
    "paper_directory = \"../2014/papers_text\"\n",
    "\n",
    "#paper_array = names of all papers in dataset ordered lexically\n",
    "paper_array = []\n",
    "for filename in os.listdir(paper_directory):\n",
    "    if filename.endswith(\".txt\"): \n",
    "        #print(os.path.join(directory, filename))\n",
    "        paper_array.append(filename[:-4])\n",
    "paper_array = sorted(paper_array)\n",
    "\n",
    "\n",
    "incite = {} #dict of all incites of every paper\n",
    "outcite = {} #dict of all outcites of every paper\n",
    "for name in paper_array:\n",
    "    incite[name] = []\n",
    "    outcite[name] = []\n",
    "\n",
    "acl_address = \"../2014/acl.txt\"\n",
    "acl = open(acl_address, \"r\")\n",
    "lines = acl.readlines()\n",
    "for data in lines:\n",
    "    a = data[:8]\n",
    "    b = data[-9:-1]\n",
    "    if(b in paper_array and a in paper_array):\n",
    "        incite[b].append(a)\n",
    "        outcite[a].append(b)\n",
    "        \n",
    "dict_to_write = {}\n",
    "\n",
    "for (key, value) in incite.items():\n",
    "    temp = \"\"\n",
    "    if (value == []):\n",
    "        dict_to_write[key] = [temp]\n",
    "    for x in value:\n",
    "        temp = temp+\",\"+x\n",
    "    dict_to_write[key] = [temp[1:]]\n",
    "for (key, value) in outcite.items():\n",
    "    temp = \"\"\n",
    "    for x in value:\n",
    "        temp = temp+\",\"+x\n",
    "    dict_to_write[key].append(temp[1:])\n",
    "    \n",
    "network = pd.DataFrame.from_dict(dict_to_write, orient='index')\n",
    "network.to_csv(\"network.csv\")"
   ]
  },
  {
   "cell_type": "code",
   "execution_count": 4,
   "metadata": {},
   "outputs": [
    {
     "ename": "SyntaxError",
     "evalue": "invalid syntax (<ipython-input-4-bc425ffef712>, line 1)",
     "output_type": "error",
     "traceback": [
      "\u001b[0;36m  File \u001b[0;32m\"<ipython-input-4-bc425ffef712>\"\u001b[0;36m, line \u001b[0;32m1\u001b[0m\n\u001b[0;31m    from sklearn import feature_extraction.text.TfidfVectorizer as TfidfV\u001b[0m\n\u001b[0m                                          ^\u001b[0m\n\u001b[0;31mSyntaxError\u001b[0m\u001b[0;31m:\u001b[0m invalid syntax\n"
     ]
    }
   ],
   "source": [
    "from sklearn import feature_extraction.text.TfidfVectorizer as TfidfV\n",
    "\n",
    "filenames = [paper_directory + x + \".txt\" for x in paper_array]"
   ]
  },
  {
   "cell_type": "code",
   "execution_count": null,
   "metadata": {
    "collapsed": true
   },
   "outputs": [],
   "source": []
  },
  {
   "cell_type": "code",
   "execution_count": null,
   "metadata": {
    "collapsed": true
   },
   "outputs": [],
   "source": []
  },
  {
   "cell_type": "code",
   "execution_count": null,
   "metadata": {
    "collapsed": true
   },
   "outputs": [],
   "source": []
  },
  {
   "cell_type": "code",
   "execution_count": null,
   "metadata": {
    "collapsed": true
   },
   "outputs": [],
   "source": []
  }
 ],
 "metadata": {
  "kernelspec": {
   "display_name": "Python 3",
   "language": "python",
   "name": "python3"
  },
  "language_info": {
   "codemirror_mode": {
    "name": "ipython",
    "version": 3
   },
   "file_extension": ".py",
   "mimetype": "text/x-python",
   "name": "python",
   "nbconvert_exporter": "python",
   "pygments_lexer": "ipython3",
   "version": "3.6.1"
  }
 },
 "nbformat": 4,
 "nbformat_minor": 2
}
