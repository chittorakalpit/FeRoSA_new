{
 "cells": [
  {
   "cell_type": "code",
   "execution_count": 57,
   "metadata": {},
   "outputs": [],
   "source": [
    "from sklearn.feature_extraction.text import TfidfVectorizer\n",
    "import os\n",
    "import numpy as np\n",
    "from sklearn.metrics.pairwise import cosine_similarity\n",
    "\n",
    "\n",
    "paper_directory = \"../2014/papers_text/\"\n",
    "\n",
    "#paper_array = names of all papers in dataset ordered lexically\n",
    "paper_array = []\n",
    "for filename in os.listdir(paper_directory):\n",
    "    if filename.endswith(\".txt\"): \n",
    "        #print(os.path.join(directory, filename))\n",
    "        paper_array.append(filename[:-4])\n",
    "paper_array = sorted(paper_array)\n",
    "\n",
    "filenames = [paper_directory + x + \".txt\" for x in paper_array]\n",
    "documents = [open(f).read() for f in filenames]\n",
    "\n",
    "raw_matrix = TfidfVectorizer(stop_words = 'english', min_df = 0.01, token_pattern='[a-zA-Z]+')\n",
    "matrix = raw_matrix.fit_transform(documents)"
   ]
  },
  {
   "cell_type": "code",
   "execution_count": 58,
   "metadata": {
    "collapsed": true
   },
   "outputs": [],
   "source": [
    "output_matrix = cosine_similarity(matrix)"
   ]
  },
  {
   "cell_type": "code",
   "execution_count": 14,
   "metadata": {
    "collapsed": true
   },
   "outputs": [],
   "source": [
    "np.save(\"cos_sim.bin\", output_matrix)"
   ]
  },
  {
   "cell_type": "code",
   "execution_count": 68,
   "metadata": {},
   "outputs": [
    {
     "data": {
      "text/plain": [
       "350"
      ]
     },
     "execution_count": 68,
     "metadata": {},
     "output_type": "execute_result"
    }
   ],
   "source": [
    "max_ = 0;\n",
    "for i in range(0,22484):\n",
    "    #for j in range(0,22484):\n",
    "    if(output_matrix[i,123]>.49):\n",
    "        max_ +=1\n",
    "max_"
   ]
  }
 ],
 "metadata": {
  "kernelspec": {
   "display_name": "Python 3",
   "language": "python",
   "name": "python3"
  },
  "language_info": {
   "codemirror_mode": {
    "name": "ipython",
    "version": 3
   },
   "file_extension": ".py",
   "mimetype": "text/x-python",
   "name": "python",
   "nbconvert_exporter": "python",
   "pygments_lexer": "ipython3",
   "version": "3.6.1"
  }
 },
 "nbformat": 4,
 "nbformat_minor": 2
}
