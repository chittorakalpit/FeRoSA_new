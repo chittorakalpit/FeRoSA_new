{
 "cells": [
  {
   "cell_type": "code",
   "execution_count": 2,
   "metadata": {
    "collapsed": true
   },
   "outputs": [],
   "source": [
    "import pandas as pd\n",
    "import numpy as np\n",
    "\n",
    "#reading data\n",
    "network = pd.read_csv(\"network.csv\")\n"
   ]
  },
  {
   "cell_type": "code",
   "execution_count": 43,
   "metadata": {
    "collapsed": false
   },
   "outputs": [
    {
     "data": {
      "text/html": [
       "<div>\n",
       "<style>\n",
       "    .dataframe thead tr:only-child th {\n",
       "        text-align: right;\n",
       "    }\n",
       "\n",
       "    .dataframe thead th {\n",
       "        text-align: left;\n",
       "    }\n",
       "\n",
       "    .dataframe tbody tr th {\n",
       "        vertical-align: top;\n",
       "    }\n",
       "</style>\n",
       "<table border=\"1\" class=\"dataframe\">\n",
       "  <thead>\n",
       "    <tr style=\"text-align: right;\">\n",
       "      <th></th>\n",
       "      <th>Unnamed: 0</th>\n",
       "      <th>0</th>\n",
       "      <th>1</th>\n",
       "    </tr>\n",
       "  </thead>\n",
       "  <tbody>\n",
       "    <tr>\n",
       "      <th>0</th>\n",
       "      <td>A00-1001</td>\n",
       "      <td>NaN</td>\n",
       "      <td>J82-3002</td>\n",
       "    </tr>\n",
       "    <tr>\n",
       "      <th>1</th>\n",
       "      <td>A00-1002</td>\n",
       "      <td>C08-3004,D09-1141,D12-1027,E06-1047,H05-1110,N...</td>\n",
       "      <td>C90-3057,P98-1080</td>\n",
       "    </tr>\n",
       "    <tr>\n",
       "      <th>2</th>\n",
       "      <td>A00-1003</td>\n",
       "      <td>NaN</td>\n",
       "      <td>P98-1066,P99-1027,P99-1029</td>\n",
       "    </tr>\n",
       "    <tr>\n",
       "      <th>3</th>\n",
       "      <td>A00-1004</td>\n",
       "      <td>C10-1054,W06-1008</td>\n",
       "      <td>A00-1019,J93-1006,J93-2003,P91-1022,P91-1023,P...</td>\n",
       "    </tr>\n",
       "    <tr>\n",
       "      <th>4</th>\n",
       "      <td>A00-1005</td>\n",
       "      <td>W03-0704,W03-1206</td>\n",
       "      <td>J86-3001,J99-3003,P96-1009</td>\n",
       "    </tr>\n",
       "  </tbody>\n",
       "</table>\n",
       "</div>"
      ],
      "text/plain": [
       "  Unnamed: 0                                                  0  \\\n",
       "0   A00-1001                                                NaN   \n",
       "1   A00-1002  C08-3004,D09-1141,D12-1027,E06-1047,H05-1110,N...   \n",
       "2   A00-1003                                                NaN   \n",
       "3   A00-1004                                  C10-1054,W06-1008   \n",
       "4   A00-1005                                  W03-0704,W03-1206   \n",
       "\n",
       "                                                   1  \n",
       "0                                           J82-3002  \n",
       "1                                  C90-3057,P98-1080  \n",
       "2                         P98-1066,P99-1027,P99-1029  \n",
       "3  A00-1019,J93-1006,J93-2003,P91-1022,P91-1023,P...  \n",
       "4                         J86-3001,J99-3003,P96-1009  "
      ]
     },
     "execution_count": 43,
     "metadata": {},
     "output_type": "execute_result"
    }
   ],
   "source": [
    "network.head(5)"
   ]
  },
  {
   "cell_type": "code",
   "execution_count": 37,
   "metadata": {
    "collapsed": true
   },
   "outputs": [],
   "source": [
    "#Creating incite and outcite dictionary\n",
    "incite = {}\n",
    "outcite = {}\n",
    "for row in network.iterrows():\n",
    "    if(type(row[1][1])!=str):\n",
    "        incite[row[1][0]] = []\n",
    "    else:\n",
    "        incite[row[1][0]] = row[1][1].split(',')\n",
    "    if(type(row[1][2])!=str):\n",
    "        outcite[row[1][0]] = []\n",
    "    else:\n",
    "        outcite[row[1][0]] = row[1][2].split(',')\n",
    "\n"
   ]
  },
  {
   "cell_type": "code",
   "execution_count": null,
   "metadata": {
    "collapsed": true
   },
   "outputs": [],
   "source": [
    "def cos_sim(p1, p2):\n",
    "    # .........\n",
    "    # Your\n",
    "    # code\n",
    "    # goes\n",
    "    # here\n",
    "    # .........\n",
    "    return sim\n",
    "    "
   ]
  },
  {
   "cell_type": "code",
   "execution_count": null,
   "metadata": {
    "collapsed": true
   },
   "outputs": [],
   "source": [
    " ## generates induced graph...\n",
    "    \n",
    "def gen_ind_graph(paper_id, out_net, in_net):       \n",
    "    nodes = []\n",
    "    out_1 = out_net[paper_id]\n",
    "    in_1 = in_net[paper_id]\n",
    "    nodes=nodes+out_1+in_1                           ## adds all 1-hop papers...\n",
    "    \n",
    "                                \n",
    "    for paper in out_1:                              ## adds all 2-hop papers...\n",
    "        nodes=nodes+out_net[paper]\n",
    "        nodes=nodes+in_net[paper]\n",
    "    for paper in in_1:\n",
    "        nodes=nodes+out_net[paper]\n",
    "        nodes=nodes+in_net[paper]\n",
    "\n",
    "    node_set = set(nodes)                            ## takes unique values only...\n",
    "    nodes = list(node_set)\n",
    "\n",
    "    graph = []\n",
    "    for i in nodes:\n",
    "        for j in nodes:\n",
    "            if j in outcite[i]:\n",
    "                graph.append([i, j, cos_sim(i,j)])   ## cos_sim needs to be defined...       \n",
    "    return graph    "
   ]
  },
  {
   "cell_type": "code",
   "execution_count": null,
   "metadata": {
    "collapsed": true
   },
   "outputs": [],
   "source": [
    "## For storing graph as 'paper_id_graph.txt' :\n",
    "\n",
    "def get_graph_txt(paper_id, out_net, in_net):\n",
    "    g = gen_ind_graph(paper_id, out_net, in_net)\n",
    "    name = paper_id + '_graph.txt'\n",
    "    file = open(name, 'w')\n",
    "    for item in g:\n",
    "        item_str = item[0]+'\\t'+item[1]+'\\t'+str(item[2])+'\\n'\n",
    "        print item_str\n",
    "        file.write(item_str)\n",
    "    file.close()"
   ]
  },
  {
   "cell_type": "code",
   "execution_count": 2,
   "metadata": {
    "collapsed": false
   },
   "outputs": [
    {
     "data": {
      "text/plain": [
       "2"
      ]
     },
     "execution_count": 2,
     "metadata": {},
     "output_type": "execute_result"
    }
   ],
   "source": [
    "8/3"
   ]
  },
  {
   "cell_type": "code",
   "execution_count": null,
   "metadata": {
    "collapsed": true
   },
   "outputs": [],
   "source": []
  }
 ],
 "metadata": {
  "kernelspec": {
   "display_name": "Python 2",
   "language": "python",
   "name": "python2"
  },
  "language_info": {
   "codemirror_mode": {
    "name": "ipython",
    "version": 2
   },
   "file_extension": ".py",
   "mimetype": "text/x-python",
   "name": "python",
   "nbconvert_exporter": "python",
   "pygments_lexer": "ipython2",
   "version": "2.7.13"
  }
 },
 "nbformat": 4,
 "nbformat_minor": 2
}
