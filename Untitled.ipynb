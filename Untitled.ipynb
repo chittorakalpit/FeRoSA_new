{
 "cells": [
  {
   "cell_type": "code",
   "execution_count": 20,
   "metadata": {
    "collapsed": true
   },
   "outputs": [],
   "source": [
    "import pandas as pd\n",
    "import numpy as np\n",
    "\n",
    "#reading data\n",
    "network = pd.read_csv(\"network.csv\")\n",
    "incite = {}\n",
    "outcite = {}\n",
    "for row in network.iterrows():\n",
    "    if(type(row[1][1])!=str):\n",
    "        incite[row[1][0]] = []\n",
    "    else:\n",
    "        incite[row[1][0]] = row[1][1].split(',')\n",
    "    if(type(row[1][2])!=str):\n",
    "        outcite[row[1][0]] = []\n",
    "    else:\n",
    "        outcite[row[1][0]] = row[1][2].split(',')\n",
    "\n"
   ]
  },
  {
   "cell_type": "code",
   "execution_count": 43,
   "metadata": {
    "collapsed": true
   },
   "outputs": [],
   "source": []
  },
  {
   "cell_type": "code",
   "execution_count": null,
   "metadata": {},
   "outputs": [],
   "source": []
  },
  {
   "cell_type": "code",
   "execution_count": null,
   "metadata": {
    "collapsed": true
   },
   "outputs": [],
   "source": []
  }
 ],
 "metadata": {
  "kernelspec": {
   "display_name": "Python 3",
   "language": "python",
   "name": "python3"
  },
  "language_info": {
   "codemirror_mode": {
    "name": "ipython",
    "version": 3
   },
   "file_extension": ".py",
   "mimetype": "text/x-python",
   "name": "python",
   "nbconvert_exporter": "python",
   "pygments_lexer": "ipython3",
   "version": "3.6.1"
  }
 },
 "nbformat": 4,
 "nbformat_minor": 2
}
